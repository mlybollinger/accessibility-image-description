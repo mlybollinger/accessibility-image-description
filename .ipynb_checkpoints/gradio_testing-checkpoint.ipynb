{
 "cells": [
  {
   "cell_type": "code",
   "execution_count": 2,
   "id": "6ecb8307",
   "metadata": {},
   "outputs": [],
   "source": [
    "import gradio as gr\n",
    "import pandas as pd\n",
    "import requests\n",
    "from cs50 import SQL\n",
    "from PIL import Image"
   ]
  },
  {
   "cell_type": "code",
   "execution_count": 3,
   "id": "92e4583f",
   "metadata": {},
   "outputs": [],
   "source": [
    "# get img data from SQL database\n",
    "db = SQL(\"sqlite:///nh_imgs.db\")\n",
    "\n",
    "data = db.execute('''SELECT * FROM imgs \n",
    "            WHERE approved_alt IS NULL\n",
    "            LIMIT 10''')\n",
    "#convert from list of dictionaries to list of lists\n",
    "\n",
    "data = [list(d.values()) for d in data]\n"
   ]
  },
  {
   "cell_type": "code",
   "execution_count": null,
   "id": "1f9ea7da",
   "metadata": {},
   "outputs": [
    {
     "name": "stderr",
     "output_type": "stream",
     "text": [
      "/var/folders/yz/d4wch5zd2m1dl4j2c078zfnm0000gn/T/ipykernel_27336/1574252748.py:14: GradioUnusedKwargWarning: You have unused kwarg parameters in Dataframe, please remove them: {'overflow_row_behavior': 'paginate'}\n",
      "  table = gr.Dataframe(data,\n",
      "/var/folders/yz/d4wch5zd2m1dl4j2c078zfnm0000gn/T/ipykernel_27336/1574252748.py:20: GradioDeprecationWarning: The `style` method is deprecated. Please set these arguments in the constructor instead.\n",
      "  image = gr.Image(elem_id=\"img_out\").style(height=500)\n",
      "DEBUG: Using selector: KqueueSelector\n"
     ]
    },
    {
     "name": "stdout",
     "output_type": "stream",
     "text": [
      "Running on local URL:  http://127.0.0.1:7860"
     ]
    },
    {
     "name": "stderr",
     "output_type": "stream",
     "text": [
      "DEBUG: Starting new HTTPS connection (1): api.gradio.app:443\n"
     ]
    },
    {
     "name": "stdout",
     "output_type": "stream",
     "text": [
      "\n"
     ]
    },
    {
     "name": "stderr",
     "output_type": "stream",
     "text": [
      "DEBUG: Starting new HTTPS connection (1): api.gradio.app:443\n",
      "DEBUG: Starting new HTTP connection (1): 127.0.0.1:7860\n",
      "DEBUG: http://127.0.0.1:7860 \"GET /startup-events HTTP/1.1\" 200 5\n",
      "DEBUG: Starting new HTTP connection (1): 127.0.0.1:7860\n",
      "DEBUG: http://127.0.0.1:7860 \"HEAD / HTTP/1.1\" 200 0\n"
     ]
    },
    {
     "name": "stdout",
     "output_type": "stream",
     "text": [
      "\n",
      "To create a public link, set `share=True` in `launch()`.\n"
     ]
    },
    {
     "data": {
      "text/html": [
       "<div><iframe src=\"http://127.0.0.1:7860/\" width=\"100%\" height=\"500\" allow=\"autoplay; camera; microphone; clipboard-read; clipboard-write;\" frameborder=\"0\" allowfullscreen></iframe></div>"
      ],
      "text/plain": [
       "<IPython.core.display.HTML object>"
      ]
     },
     "metadata": {},
     "output_type": "display_data"
    },
    {
     "name": "stderr",
     "output_type": "stream",
     "text": [
      "DEBUG: Starting new HTTPS connection (1): api.gradio.app:443\n",
      "DEBUG: https://api.gradio.app:443 \"GET /pkg-version HTTP/1.1\" 200 21\n",
      "DEBUG: https://api.gradio.app:443 \"POST /gradio-initiated-analytics/ HTTP/1.1\" 200 None\n",
      "DEBUG: https://api.gradio.app:443 \"POST /gradio-launched-telemetry/ HTTP/1.1\" 200 None\n",
      "DEBUG: Loaded backend agg version v2.2.\n",
      "DEBUG: Starting new HTTPS connection (1): naturalhistory.si.edu:443\n",
      "DEBUG: https://naturalhistory.si.edu:443 \"GET /sites/default/files/styles/featured/public/media/image/hoteaser2.jpg.webp?itok=Oq5qV8fj HTTP/1.1\" 200 38288\n",
      "DEBUG: Loaded backend module://matplotlib_inline.backend_inline version unknown.\n"
     ]
    }
   ],
   "source": [
    "def on_select(evt: gr.SelectData):  # SelectData is a subclass of EventData\n",
    "    \n",
    "    #get row of selected data so we can print the image from that row\n",
    "    \n",
    "    row_index = evt.index[0]\n",
    "    \n",
    "    return Image.open(requests.get(data[row_index][3], stream=True).raw)\n",
    "\n",
    "\n",
    "\n",
    "\n",
    "with gr.Blocks() as demo:\n",
    "\n",
    "    table = gr.Dataframe(data,\n",
    "                       datatype=['number','str','str','str','str', 'str', 'str'],\n",
    "                       wrap=True,\n",
    "                        max_rows=5,\n",
    "                        overflow_row_behavior='paginate')\n",
    "    \n",
    "    image = gr.Image(elem_id=\"img_out\").style(height=500)\n",
    "\n",
    "    table.select(on_select, None, image)\n",
    "\n",
    "demo.launch(debug=True)"
   ]
  },
  {
   "cell_type": "code",
   "execution_count": 25,
   "id": "430219f0",
   "metadata": {},
   "outputs": [
    {
     "data": {
      "text/plain": [
       "dataframe"
      ]
     },
     "execution_count": 25,
     "metadata": {},
     "output_type": "execute_result"
    }
   ],
   "source": [
    "gr.Dataframe(data,\n",
    "            datatype=['number','str','str','str','str', 'str', 'str'],\n",
    "            wrap=True)"
   ]
  },
  {
   "cell_type": "code",
   "execution_count": 23,
   "id": "462181c0",
   "metadata": {},
   "outputs": [
    {
     "data": {
      "text/plain": [
       "[[42,\n",
       "  'https://naturalhistory.si.edu',\n",
       "  'https://naturalhistory.si.edu/exhibits',\n",
       "  'https://naturalhistory.si.edu/sites/default/files/styles/circle/public/media/image/t-rex-vs-triceratops.png.webp?itok=shXoOTmk',\n",
       "  'Tyrannosaurus rex attacking a Triceratops',\n",
       "  \"['a large dinosaur skeleton is on display in a museum']\",\n",
       "  None],\n",
       " [43,\n",
       "  'https://naturalhistory.si.edu',\n",
       "  'https://naturalhistory.si.edu/exhibits',\n",
       "  'https://naturalhistory.si.edu/sites/default/files/styles/featured/public/media/image/henry.jpg.webp?itok=3YgviVvU',\n",
       "  'Henry the elephant front view on new platform in Rotunda ',\n",
       "  \"['a statue of an elephant in the middle of a museum']\",\n",
       "  None],\n",
       " [44,\n",
       "  'https://naturalhistory.si.edu',\n",
       "  'https://naturalhistory.si.edu/exhibits',\n",
       "  'https://naturalhistory.si.edu/sites/default/files/styles/featured/public/media/image/africanvoicesteaser2.png.webp?itok=kUS2JG32',\n",
       "  'a bird flying out of a cage',\n",
       "  \"['a painting of a bird in a cage on a green background']\",\n",
       "  None],\n",
       " [45,\n",
       "  'https://naturalhistory.si.edu',\n",
       "  'https://naturalhistory.si.edu/exhibits',\n",
       "  'https://naturalhistory.si.edu/sites/default/files/styles/featured/public/media/image/screen-shot-2022-08-18-32308-pm0.png.webp?itok=zwLpQ3eE',\n",
       "  'Black and Yellow Tucan in tree',\n",
       "  \"['a colorful toucan perched on a tree branch']\",\n",
       "  None],\n",
       " [46,\n",
       "  'https://naturalhistory.si.edu',\n",
       "  'https://naturalhistory.si.edu/exhibits',\n",
       "  'https://naturalhistory.si.edu/sites/default/files/styles/featured/public/media/image/bone-halteaser.jpg.webp?itok=0v-e4rar',\n",
       "  'a bird skeleton',\n",
       "  \"['an image of a bird skeleton with a long neck']\",\n",
       "  None],\n",
       " [47,\n",
       "  'https://naturalhistory.si.edu',\n",
       "  'https://naturalhistory.si.edu/exhibits',\n",
       "  'https://naturalhistory.si.edu/sites/default/files/styles/featured/public/media/image/180918monarchbutterflyrosapinedasmithsonianbutterfly-15.jpg.webp?itok=W3qnzEnD',\n",
       "  'Monarch butterfly sitting on a pink flower.',\n",
       "  \"['a monarch butterfly sits on some pink flowers']\",\n",
       "  None],\n",
       " [49,\n",
       "  'https://naturalhistory.si.edu',\n",
       "  'https://naturalhistory.si.edu/exhibits',\n",
       "  'https://naturalhistory.si.edu/sites/default/files/styles/featured/public/media/image/hoteaser2.jpg.webp?itok=Oq5qV8fj',\n",
       "  'An illustration of a human ancestor',\n",
       "  \"['a painting of a man with dreadlocks and a mountain in the background']\",\n",
       "  None],\n",
       " [50,\n",
       "  'https://naturalhistory.si.edu',\n",
       "  'https://naturalhistory.si.edu/exhibits',\n",
       "  'https://naturalhistory.si.edu/sites/default/files/styles/featured/public/media/image/ancientegyptteaser.png.webp?itok=RDNF_Xac',\n",
       "  'a sarcophagus ',\n",
       "  '[\"an ancient egyptian woman\\'s headdress is on display in a museum\"]',\n",
       "  None],\n",
       " [51,\n",
       "  'https://naturalhistory.si.edu',\n",
       "  'https://naturalhistory.si.edu/exhibits',\n",
       "  'https://naturalhistory.si.edu/sites/default/files/styles/featured/public/media/image/78-7006.jpg.webp?itok=sgaSVXPe',\n",
       "  'four colorful (green, yellow, red, and pink) gems on black background ',\n",
       "  \"['four different colored gems are shown on a black background']\",\n",
       "  None],\n",
       " [52,\n",
       "  'https://naturalhistory.si.edu',\n",
       "  'https://naturalhistory.si.edu/exhibits',\n",
       "  'https://naturalhistory.si.edu/sites/default/files/styles/featured/public/media/image/leopard.jpg.webp?itok=Gq0_6F0n',\n",
       "  'cheetah on branch with other animal',\n",
       "  \"['a leopard resting on a tree branch next to a deer']\",\n",
       "  None]]"
      ]
     },
     "execution_count": 23,
     "metadata": {},
     "output_type": "execute_result"
    }
   ],
   "source": [
    "#need to find a workaround for max_rows"
   ]
  },
  {
   "cell_type": "code",
   "execution_count": 42,
   "id": "8d88f972",
   "metadata": {},
   "outputs": [
    {
     "name": "stderr",
     "output_type": "stream",
     "text": [
      "DEBUG: entering code: StateBlock(line=0,level=0,tokens=0), 0, 1, False\n",
      "DEBUG: entering fence: StateBlock(line=0,level=0,tokens=0), 0, 1, False\n",
      "DEBUG: entering blockquote: StateBlock(line=0,level=0,tokens=0), 0, 1, False\n",
      "DEBUG: entering hr: StateBlock(line=0,level=0,tokens=0), 0, 1, False\n",
      "DEBUG: entering list: StateBlock(line=0,level=0,tokens=0), 0, 1, False\n",
      "DEBUG: entering reference: StateBlock(line=0,level=0,tokens=0), 0, 1, False\n",
      "DEBUG: entering html_block: StateBlock(line=0,level=0,tokens=0), 0, 1, False\n",
      "DEBUG: entering heading: StateBlock(line=0,level=0,tokens=0), 0, 1, False\n",
      "DEBUG: entering lheading: StateBlock(line=0,level=0,tokens=0), 0, 1, False\n",
      "DEBUG: entering paragraph: StateBlock(line=0,level=0,tokens=0), 0, 1, False\n",
      "DEBUG: entering code: StateBlock(line=0,level=0,tokens=0), 0, 1, False\n",
      "DEBUG: entering fence: StateBlock(line=0,level=0,tokens=0), 0, 1, False\n",
      "DEBUG: entering blockquote: StateBlock(line=0,level=0,tokens=0), 0, 1, False\n",
      "DEBUG: entering hr: StateBlock(line=0,level=0,tokens=0), 0, 1, False\n",
      "DEBUG: entering list: StateBlock(line=0,level=0,tokens=0), 0, 1, False\n",
      "DEBUG: entering reference: StateBlock(line=0,level=0,tokens=0), 0, 1, False\n",
      "DEBUG: entering html_block: StateBlock(line=0,level=0,tokens=0), 0, 1, False\n",
      "DEBUG: entering heading: StateBlock(line=0,level=0,tokens=0), 0, 1, False\n",
      "DEBUG: entering lheading: StateBlock(line=0,level=0,tokens=0), 0, 1, False\n",
      "DEBUG: entering paragraph: StateBlock(line=0,level=0,tokens=0), 0, 1, False\n",
      "DEBUG: Using selector: KqueueSelector\n"
     ]
    },
    {
     "name": "stdout",
     "output_type": "stream",
     "text": [
      "Running on local URL:  http://127.0.0.1:7860\n"
     ]
    },
    {
     "name": "stderr",
     "output_type": "stream",
     "text": [
      "DEBUG: Starting new HTTP connection (1): 127.0.0.1:7860\n",
      "DEBUG: http://127.0.0.1:7860 \"GET /startup-events HTTP/1.1\" 200 5\n",
      "DEBUG: Starting new HTTP connection (1): 127.0.0.1:7860\n",
      "DEBUG: http://127.0.0.1:7860 \"HEAD / HTTP/1.1\" 200 0\n"
     ]
    },
    {
     "name": "stdout",
     "output_type": "stream",
     "text": [
      "\n",
      "To create a public link, set `share=True` in `launch()`.\n"
     ]
    },
    {
     "data": {
      "text/html": [
       "<div><iframe src=\"http://127.0.0.1:7860/\" width=\"100%\" height=\"500\" allow=\"autoplay; camera; microphone; clipboard-read; clipboard-write;\" frameborder=\"0\" allowfullscreen></iframe></div>"
      ],
      "text/plain": [
       "<IPython.core.display.HTML object>"
      ]
     },
     "metadata": {},
     "output_type": "display_data"
    },
    {
     "name": "stderr",
     "output_type": "stream",
     "text": [
      "DEBUG: Starting new HTTPS connection (1): api.gradio.app:443\n",
      "DEBUG: Starting new HTTPS connection (1): api.gradio.app:443\n",
      "DEBUG: Starting new HTTPS connection (1): api.gradio.app:443\n",
      "DEBUG: https://api.gradio.app:443 \"GET /pkg-version HTTP/1.1\" 200 21\n",
      "DEBUG: https://api.gradio.app:443 \"POST /gradio-initiated-analytics/ HTTP/1.1\" 200 None\n",
      "DEBUG: https://api.gradio.app:443 \"POST /gradio-launched-telemetry/ HTTP/1.1\" 200 None\n",
      "DEBUG: Loaded backend agg version v2.2.\n",
      "DEBUG: Loaded backend module://matplotlib_inline.backend_inline version unknown.\n"
     ]
    },
    {
     "name": "stdout",
     "output_type": "stream",
     "text": [
      "Keyboard interruption in main thread... closing server.\n"
     ]
    },
    {
     "data": {
      "text/plain": []
     },
     "execution_count": 42,
     "metadata": {},
     "output_type": "execute_result"
    }
   ],
   "source": [
    "#goals: display textbox and image based on selected row\n",
    "\n",
    "def on_select(evt: gr.SelectData):  # SelectData is a subclass of EventData\n",
    "    return f\"You selected {evt.value} at {evt.index} from {evt.target}\"\n",
    "\n",
    "with gr.Blocks() as demo:\n",
    "\n",
    "      image = ''\n",
    "\n",
    "      table = gr.Dataframe([[image, 'really long text that hopefully triggers a word wrap at some point', 3,10,20], [image, '5', 6,10,20]],\n",
    "                       datatype=['markdown','markdown','str','str','str'],\n",
    "                       wrap=True)\n",
    "      statement = gr.Textbox()\n",
    "\n",
    "      table.select(on_select, None, statement)\n",
    "\n",
    "demo.launch(debug=True)"
   ]
  },
  {
   "cell_type": "code",
   "execution_count": null,
   "id": "8e88006b",
   "metadata": {},
   "outputs": [],
   "source": []
  }
 ],
 "metadata": {
  "kernelspec": {
   "display_name": "holford_kernel",
   "language": "python",
   "name": "holford_kernel"
  },
  "language_info": {
   "codemirror_mode": {
    "name": "ipython",
    "version": 3
   },
   "file_extension": ".py",
   "mimetype": "text/x-python",
   "name": "python",
   "nbconvert_exporter": "python",
   "pygments_lexer": "ipython3",
   "version": "3.11.4"
  }
 },
 "nbformat": 4,
 "nbformat_minor": 5
}
